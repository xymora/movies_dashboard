{
  "cells": [
    {
      "cell_type": "markdown",
      "metadata": {},
      "source": [
        "# Notebook para dashboard de filmes\n",
        "Este cuaderno contiene los pasos para:\n",
        "1. Instalar librer\u00edas\n",
        "2. Importar y conectar a Firestore\n",
        "3. Migrar el CSV a Firestore\n",
        "4. Leer todos los registros en un DataFrame"
      ]
    },
    {
      "cell_type": "code",
      "metadata": {},
      "source": [
        "!pip install streamlit firebase-admin pandas"
      ]
    },
    {
      "cell_type": "code",
      "metadata": {},
      "source": [
        "import pandas as pd\n",
        "import firebase_admin\n",
        "from firebase_admin import credentials, firestore"
      ]
    },
    {
      "cell_type": "code",
      "metadata": {},
      "source": [
        "# Inicializa Firebase\n",
        "cred = credentials.Certificate(\"/content/practica-learning-adolfo-firebase.json\")\n",
        "firebase_admin.initialize_app(cred)\n",
        "db = firestore.client()"
      ]
    },
    {
      "cell_type": "code",
      "metadata": {},
      "source": [
        "# 3. Migraci\u00f3n de CSV \u2192 Firestore\n",
        "df = pd.read_csv('/content/movies.csv')\n",
        "movies_ref = db.collection('movies')\n",
        "for rec in df.to_dict(orient='records'):\n",
        "    movies_ref.add(rec)"
      ]
    },
    {
      "cell_type": "code",
      "metadata": {},
      "source": [
        "# 4. Funci\u00f3n para leer todos los registros en un DataFrame\n",
        "def load_movies():\n",
        "    docs = db.collection('movies').stream()\n",
        "    data = [d.to_dict() for d in docs]\n",
        "    return pd.DataFrame(data)\n\n",
        "# Prueba\n",
        "df_movies = load_movies()\n",
        "df_movies.head()"
      ]
    }
  ],
  "metadata": {},
  "nbformat": 4,
  "nbformat_minor": 5
}